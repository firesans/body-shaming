{
  "nbformat": 4,
  "nbformat_minor": 0,
  "metadata": {
    "colab": {
      "name": "elmo_and_glove.ipynb",
      "provenance": []
    },
    "kernelspec": {
      "name": "python3",
      "display_name": "Python 3"
    }
  },
  "cells": [
    {
      "cell_type": "code",
      "metadata": {
        "id": "1hDTjrMc70tD",
        "colab_type": "code",
        "colab": {
          "base_uri": "https://localhost:8080/",
          "height": 124
        },
        "outputId": "2916f57e-a0fb-45c1-e73d-d657d6fc5de4"
      },
      "source": [
        "from google.colab import drive\n",
        "drive.mount('/content/gdrive')"
      ],
      "execution_count": 6,
      "outputs": [
        {
          "output_type": "stream",
          "text": [
            "Go to this URL in a browser: https://accounts.google.com/o/oauth2/auth?client_id=947318989803-6bn6qk8qdgf4n4g3pfee6491hc0brc4i.apps.googleusercontent.com&redirect_uri=urn%3Aietf%3Awg%3Aoauth%3A2.0%3Aoob&scope=email%20https%3A%2F%2Fwww.googleapis.com%2Fauth%2Fdocs.test%20https%3A%2F%2Fwww.googleapis.com%2Fauth%2Fdrive%20https%3A%2F%2Fwww.googleapis.com%2Fauth%2Fdrive.photos.readonly%20https%3A%2F%2Fwww.googleapis.com%2Fauth%2Fpeopleapi.readonly&response_type=code\n",
            "\n",
            "Enter your authorization code:\n",
            "··········\n",
            "Mounted at /content/gdrive\n"
          ],
          "name": "stdout"
        }
      ]
    },
    {
      "cell_type": "code",
      "metadata": {
        "id": "Fr3nj4de8IU_",
        "colab_type": "code",
        "colab": {}
      },
      "source": [
        "import tensorflow_hub as hub\n",
        "import tensorflow as tf\n",
        "import pandas as pd\n",
        "from sklearn.linear_model import LogisticRegression\n",
        "from sklearn.ensemble import RandomForestClassifier\n",
        "from sklearn.linear_model import LogisticRegression\n",
        "from sklearn.ensemble import RandomForestClassifier\n",
        "import numpy as np\n",
        "from sklearn import model_selection, svm\n",
        "import numpy as np\n",
        "import spacy\n",
        "from sklearn.base import BaseEstimator, TransformerMixin\n",
        "from sklearn.pipeline import make_pipeline\n",
        "from sklearn.model_selection import train_test_split\n",
        "from sklearn.metrics import accuracy_score, f1_score, precision_score, recall_score\n"
      ],
      "execution_count": 0,
      "outputs": []
    },
    {
      "cell_type": "markdown",
      "metadata": {
        "id": "rucSczetkyRA",
        "colab_type": "text"
      },
      "source": [
        "**# ELMO EMBEDDING**"
      ]
    },
    {
      "cell_type": "code",
      "metadata": {
        "id": "vw23fUkZ8AJY",
        "colab_type": "code",
        "colab": {}
      },
      "source": [
        "elmo = hub.Module(\"https://tfhub.dev/google/elmo/2\", trainable=True)"
      ],
      "execution_count": 0,
      "outputs": []
    },
    {
      "cell_type": "code",
      "metadata": {
        "id": "NAsP8MAS8dDr",
        "colab_type": "code",
        "colab": {}
      },
      "source": [
        "def elmo_vectors(x):\n",
        "  embeddings = elmo(x.tolist(), signature=\"default\", as_dict=True)[\"elmo\"]\n",
        "\n",
        "  with tf.Session() as sess:\n",
        "    sess.run(tf.global_variables_initializer())\n",
        "    sess.run(tf.tables_initializer())\n",
        "    # return average of ELMo features\n",
        "    return sess.run(tf.reduce_mean(embeddings,1))"
      ],
      "execution_count": 0,
      "outputs": []
    },
    {
      "cell_type": "code",
      "metadata": {
        "id": "NlFMTAGT9S55",
        "colab_type": "code",
        "colab": {}
      },
      "source": [
        "df = pd.read_csv(\"/content/gdrive/My Drive/dataset/data.txt\", delimiter=',',encoding = \"utf-8\")"
      ],
      "execution_count": 0,
      "outputs": []
    },
    {
      "cell_type": "code",
      "metadata": {
        "id": "XPYp5Hy3kv7b",
        "colab_type": "code",
        "colab": {}
      },
      "source": [
        "list_train = [df[i:i+100] for i in range(0,df.shape[0],100)]\n",
        "elmo_train = [elmo_vectors(x['text']) for x in list_train]"
      ],
      "execution_count": 0,
      "outputs": []
    },
    {
      "cell_type": "code",
      "metadata": {
        "id": "iu40xpVuAjH2",
        "colab_type": "code",
        "colab": {}
      },
      "source": [
        "elmo_train_new = np.concatenate(elmo_train, axis = 0)"
      ],
      "execution_count": 0,
      "outputs": []
    },
    {
      "cell_type": "code",
      "metadata": {
        "id": "MI0xQA6dJlot",
        "colab_type": "code",
        "colab": {}
      },
      "source": [
        "xtrain, xvalid, ytrain, yvalid = train_test_split(elmo_train_new, \n",
        "                                                  df['label'],  \n",
        "                                                  random_state=42, \n",
        "                                                  test_size=0.2)"
      ],
      "execution_count": 0,
      "outputs": []
    },
    {
      "cell_type": "markdown",
      "metadata": {
        "id": "aHvnPE7Pkgoi",
        "colab_type": "text"
      },
      "source": [
        "# SVM"
      ]
    },
    {
      "cell_type": "code",
      "metadata": {
        "id": "2xEhuK12Aq1I",
        "colab_type": "code",
        "colab": {}
      },
      "source": [
        "SVM = svm.SVC(C=1.0, kernel='linear', degree=3, gamma='auto')"
      ],
      "execution_count": 0,
      "outputs": []
    },
    {
      "cell_type": "code",
      "metadata": {
        "id": "v8biyOTMW1AV",
        "colab_type": "code",
        "colab": {
          "base_uri": "https://localhost:8080/",
          "height": 86
        },
        "outputId": "e740412a-7b58-4df3-a199-db3d416e81b9"
      },
      "source": [
        "SVM.fit(xtrain,ytrain)"
      ],
      "execution_count": 37,
      "outputs": [
        {
          "output_type": "execute_result",
          "data": {
            "text/plain": [
              "SVC(C=1.0, cache_size=200, class_weight=None, coef0=0.0,\n",
              "    decision_function_shape='ovr', degree=3, gamma='auto', kernel='linear',\n",
              "    max_iter=-1, probability=False, random_state=None, shrinking=True,\n",
              "    tol=0.001, verbose=False)"
            ]
          },
          "metadata": {
            "tags": []
          },
          "execution_count": 37
        }
      ]
    },
    {
      "cell_type": "code",
      "metadata": {
        "id": "SMGxCNvJXEX9",
        "colab_type": "code",
        "colab": {
          "base_uri": "https://localhost:8080/",
          "height": 86
        },
        "outputId": "48c2a5c4-3ff1-4486-c595-ef9b8d45edaf"
      },
      "source": [
        "predictions_SVM = SVM.predict(xvalid)\n",
        "print(\"Accuracy -> \",accuracy_score( yvalid,predictions_SVM)*100)\n",
        "print(\"F1 Score -> \",f1_score(yvalid,predictions_SVM, average=\"macro\"))\n",
        "print(\"Precision -> \",precision_score(yvalid, predictions_SVM, average=\"macro\"))\n",
        "print(\"Recall -> \",recall_score(yvalid,predictions_SVM, average=\"macro\"))"
      ],
      "execution_count": 38,
      "outputs": [
        {
          "output_type": "stream",
          "text": [
            "Accuracy ->  92.08333333333333\n",
            "F1 Score ->  0.8666315697113275\n",
            "Precision ->  0.9140841813135985\n",
            "Recall ->  0.834685693165839\n"
          ],
          "name": "stdout"
        }
      ]
    },
    {
      "cell_type": "markdown",
      "metadata": {
        "id": "LrpDmadBkiLG",
        "colab_type": "text"
      },
      "source": [
        "# Random Forest"
      ]
    },
    {
      "cell_type": "code",
      "metadata": {
        "id": "90LsUL5uXZw0",
        "colab_type": "code",
        "colab": {
          "base_uri": "https://localhost:8080/",
          "height": 86
        },
        "outputId": "9f5531f3-c76f-4428-b570-8d5c91acbb8a"
      },
      "source": [
        "RFC = RandomForestClassifier(n_estimators=200, max_depth=3, random_state=0)\n",
        "RFC.fit(xtrain,ytrain)\n",
        "predictions_RFC = RFC.predict(xvalid)\n",
        "print(\"Accuracy -> \",accuracy_score( yvalid,predictions_RFC)*100)\n",
        "print(\"F1 Score -> \",f1_score(yvalid,predictions_RFC, average=\"macro\"))\n",
        "print(\"Precision -> \",precision_score(yvalid, predictions_RFC, average=\"macro\"))\n",
        "print(\"Recall -> \",recall_score(yvalid,predictions_RFC, average=\"macro\"))"
      ],
      "execution_count": 43,
      "outputs": [
        {
          "output_type": "stream",
          "text": [
            "Accuracy ->  85.83333333333333\n",
            "F1 Score ->  0.7196508278546141\n",
            "Precision ->  0.8560280527081459\n",
            "Recall ->  0.6798645657650462\n"
          ],
          "name": "stdout"
        }
      ]
    },
    {
      "cell_type": "markdown",
      "metadata": {
        "id": "bDvXwBHHkl8a",
        "colab_type": "text"
      },
      "source": [
        "# Logistic Regression"
      ]
    },
    {
      "cell_type": "code",
      "metadata": {
        "id": "iY6ZEmFUXzWT",
        "colab_type": "code",
        "colab": {
          "base_uri": "https://localhost:8080/",
          "height": 141
        },
        "outputId": "2a551ecc-f7bb-43f3-8b05-cffbede20f19"
      },
      "source": [
        "LR = LogisticRegression(random_state=0)\n",
        "LR.fit(xtrain,ytrain)\n",
        "predictions_LR = LR.predict(xvalid)\n",
        "print(\"Accuracy -> \",accuracy_score( yvalid,predictions_LR)*100)\n",
        "print(\"F1 Score -> \",f1_score(yvalid,predictions_LR, average=\"macro\"))\n",
        "print(\"Precision -> \",precision_score(yvalid, predictions_LR, average=\"macro\"))\n",
        "print(\"Recall -> \",recall_score(yvalid,predictions_LR, average=\"macro\"))"
      ],
      "execution_count": 45,
      "outputs": [
        {
          "output_type": "stream",
          "text": [
            "/usr/local/lib/python3.6/dist-packages/sklearn/linear_model/logistic.py:432: FutureWarning: Default solver will be changed to 'lbfgs' in 0.22. Specify a solver to silence this warning.\n",
            "  FutureWarning)\n"
          ],
          "name": "stderr"
        },
        {
          "output_type": "stream",
          "text": [
            "Accuracy ->  89.33333333333333\n",
            "F1 Score ->  0.8087639878684656\n",
            "Precision ->  0.8893039049235993\n",
            "Recall ->  0.7678840737326407\n"
          ],
          "name": "stdout"
        }
      ]
    },
    {
      "cell_type": "markdown",
      "metadata": {
        "id": "SbnhSyytkPeU",
        "colab_type": "text"
      },
      "source": [
        "**# Glove Embedding**"
      ]
    },
    {
      "cell_type": "code",
      "metadata": {
        "id": "B9IugpBOZaMR",
        "colab_type": "code",
        "colab": {
          "base_uri": "https://localhost:8080/",
          "height": 89
        },
        "outputId": "fa43f5a9-0ca6-4cfd-955b-df31d7ec0b05"
      },
      "source": [
        "pip install spacy\n",
        "!python -m spacy download en_core_web_md"
      ],
      "execution_count": 12,
      "outputs": [
        {
          "output_type": "stream",
          "text": [
            "Requirement already satisfied: en_core_web_md==2.1.0 from https://github.com/explosion/spacy-models/releases/download/en_core_web_md-2.1.0/en_core_web_md-2.1.0.tar.gz#egg=en_core_web_md==2.1.0 in /usr/local/lib/python3.6/dist-packages (2.1.0)\n",
            "\u001b[38;5;2m✔ Download and installation successful\u001b[0m\n",
            "You can now load the model via spacy.load('en_core_web_md')\n"
          ],
          "name": "stdout"
        }
      ]
    },
    {
      "cell_type": "code",
      "metadata": {
        "id": "P623_H_iapa4",
        "colab_type": "code",
        "colab": {}
      },
      "source": [
        "\n",
        "class GloveVectorizer(BaseEstimator, TransformerMixin):\n",
        "    def __init__(self, model_name=\"en_core_web_md\"):\n",
        "        self._nlp = spacy.load(model_name)\n",
        "\n",
        "    def fit(self, X, y=None):\n",
        "        return self\n",
        "\n",
        "    def transform(self, X):\n",
        "        return np.concatenate(\n",
        "            [self._nlp(doc).vector.reshape(1, -1) for doc in X]\n",
        "        )"
      ],
      "execution_count": 0,
      "outputs": []
    },
    {
      "cell_type": "code",
      "metadata": {
        "id": "tSkZKckfez6A",
        "colab_type": "code",
        "colab": {}
      },
      "source": [
        "xtrain, xvalid, ytrain, yvalid = train_test_split(df['text'], df['label'], random_state=42, test_size=0.2)"
      ],
      "execution_count": 0,
      "outputs": []
    },
    {
      "cell_type": "code",
      "metadata": {
        "id": "ii8Jk2t9fX63",
        "colab_type": "code",
        "colab": {}
      },
      "source": [
        "xtrain,xvalid,ytrain,yvalid = list(xtrain),list(xvalid),list(ytrain),list(yvalid)"
      ],
      "execution_count": 0,
      "outputs": []
    },
    {
      "cell_type": "markdown",
      "metadata": {
        "id": "xeELl4Noj7Rb",
        "colab_type": "text"
      },
      "source": [
        "# SVM"
      ]
    },
    {
      "cell_type": "code",
      "metadata": {
        "id": "3dac1mrzcMXq",
        "colab_type": "code",
        "colab": {
          "base_uri": "https://localhost:8080/",
          "height": 173
        },
        "outputId": "3ebb3490-ee38-43e6-bf3d-c0cd922d1fe2"
      },
      "source": [
        "\n",
        "g = GloveVectorizer()\n",
        "svm_ = svm.SVC(C=1.0, kernel='linear', degree=3, gamma='auto')\n",
        "pipeline = make_pipeline(g, svm_)\n",
        "\n",
        "pipeline.fit(xtrain, ytrain)"
      ],
      "execution_count": 22,
      "outputs": [
        {
          "output_type": "execute_result",
          "data": {
            "text/plain": [
              "Pipeline(memory=None,\n",
              "         steps=[('glovevectorizer', GloveVectorizer(model_name=None)),\n",
              "                ('svc',\n",
              "                 SVC(C=1.0, cache_size=200, class_weight=None, coef0=0.0,\n",
              "                     decision_function_shape='ovr', degree=3, gamma='auto',\n",
              "                     kernel='linear', max_iter=-1, probability=False,\n",
              "                     random_state=None, shrinking=True, tol=0.001,\n",
              "                     verbose=False))],\n",
              "         verbose=False)"
            ]
          },
          "metadata": {
            "tags": []
          },
          "execution_count": 22
        }
      ]
    },
    {
      "cell_type": "code",
      "metadata": {
        "id": "M4v9jzYFfw42",
        "colab_type": "code",
        "colab": {
          "base_uri": "https://localhost:8080/",
          "height": 86
        },
        "outputId": "a4c8480c-0b35-41fd-cf78-e6182f42fbd2"
      },
      "source": [
        "predictions_SVM = pipeline.predict(xvalid)\n",
        "print(\"Accuracy -> \",accuracy_score( yvalid,predictions_SVM)*100)\n",
        "print(\"F1 Score -> \",f1_score(yvalid,predictions_SVM, average=\"macro\"))\n",
        "print(\"Precision -> \",precision_score(yvalid, predictions_SVM, average=\"macro\"))\n",
        "print(\"Recall -> \",recall_score(yvalid,predictions_SVM, average=\"macro\"))"
      ],
      "execution_count": 23,
      "outputs": [
        {
          "output_type": "stream",
          "text": [
            "Accuracy ->  86.08333333333333\n",
            "F1 Score ->  0.7712326155623466\n",
            "Precision ->  0.7959036885652493\n",
            "Recall ->  0.7534209039428015\n"
          ],
          "name": "stdout"
        }
      ]
    },
    {
      "cell_type": "markdown",
      "metadata": {
        "id": "pCBxrBP_jxFB",
        "colab_type": "text"
      },
      "source": [
        "# Random Forest"
      ]
    },
    {
      "cell_type": "code",
      "metadata": {
        "id": "lVHaV2tAgPU7",
        "colab_type": "code",
        "colab": {
          "base_uri": "https://localhost:8080/",
          "height": 278
        },
        "outputId": "31f5661a-13a5-47f6-a42b-946343b4f234"
      },
      "source": [
        "g = GloveVectorizer()\n",
        "RFC = RandomForestClassifier(n_estimators=200, max_depth=3, random_state=0)\n",
        "pipeline = make_pipeline(g, RFC)\n",
        "pipeline.fit(xtrain, ytrain)"
      ],
      "execution_count": 25,
      "outputs": [
        {
          "output_type": "execute_result",
          "data": {
            "text/plain": [
              "Pipeline(memory=None,\n",
              "         steps=[('glovevectorizer', GloveVectorizer(model_name=None)),\n",
              "                ('randomforestclassifier',\n",
              "                 RandomForestClassifier(bootstrap=True, class_weight=None,\n",
              "                                        criterion='gini', max_depth=3,\n",
              "                                        max_features='auto',\n",
              "                                        max_leaf_nodes=None,\n",
              "                                        min_impurity_decrease=0.0,\n",
              "                                        min_impurity_split=None,\n",
              "                                        min_samples_leaf=1, min_samples_split=2,\n",
              "                                        min_weight_fraction_leaf=0.0,\n",
              "                                        n_estimators=200, n_jobs=None,\n",
              "                                        oob_score=False, random_state=0,\n",
              "                                        verbose=0, warm_start=False))],\n",
              "         verbose=False)"
            ]
          },
          "metadata": {
            "tags": []
          },
          "execution_count": 25
        }
      ]
    },
    {
      "cell_type": "code",
      "metadata": {
        "id": "niRmxcY-i72d",
        "colab_type": "code",
        "colab": {
          "base_uri": "https://localhost:8080/",
          "height": 86
        },
        "outputId": "83d175e3-dcdb-47bb-f310-4b834c85a0c8"
      },
      "source": [
        "predictions_RFC = pipeline.predict(xvalid)\n",
        "print(\"Accuracy -> \",accuracy_score( yvalid,predictions_RFC)*100)\n",
        "print(\"F1 Score -> \",f1_score(yvalid,predictions_RFC, average=\"macro\"))\n",
        "print(\"Precision -> \",precision_score(yvalid, predictions_RFC, average=\"macro\"))\n",
        "print(\"Recall -> \",recall_score(yvalid,predictions_RFC, average=\"macro\"))"
      ],
      "execution_count": 26,
      "outputs": [
        {
          "output_type": "stream",
          "text": [
            "Accuracy ->  82.33333333333334\n",
            "F1 Score ->  0.5817550505050505\n",
            "Precision ->  0.8732506997201119\n",
            "Recall ->  0.5753491000080717\n"
          ],
          "name": "stdout"
        }
      ]
    },
    {
      "cell_type": "markdown",
      "metadata": {
        "id": "CIGCvluXjsgI",
        "colab_type": "text"
      },
      "source": [
        "# Logistic Regression"
      ]
    },
    {
      "cell_type": "code",
      "metadata": {
        "id": "fqVux6HAjDFJ",
        "colab_type": "code",
        "colab": {
          "base_uri": "https://localhost:8080/",
          "height": 245
        },
        "outputId": "aa0d20ea-f3d0-497b-e1a3-5eee751b9d17"
      },
      "source": [
        "g = GloveVectorizer()\n",
        "LR = LogisticRegression(random_state=0)\n",
        "pipeline = make_pipeline(g, LR)\n",
        "pipeline.fit(xtrain, ytrain)"
      ],
      "execution_count": 27,
      "outputs": [
        {
          "output_type": "stream",
          "text": [
            "/usr/local/lib/python3.6/dist-packages/sklearn/linear_model/logistic.py:432: FutureWarning: Default solver will be changed to 'lbfgs' in 0.22. Specify a solver to silence this warning.\n",
            "  FutureWarning)\n"
          ],
          "name": "stderr"
        },
        {
          "output_type": "execute_result",
          "data": {
            "text/plain": [
              "Pipeline(memory=None,\n",
              "         steps=[('glovevectorizer', GloveVectorizer(model_name=None)),\n",
              "                ('logisticregression',\n",
              "                 LogisticRegression(C=1.0, class_weight=None, dual=False,\n",
              "                                    fit_intercept=True, intercept_scaling=1,\n",
              "                                    l1_ratio=None, max_iter=100,\n",
              "                                    multi_class='warn', n_jobs=None,\n",
              "                                    penalty='l2', random_state=0, solver='warn',\n",
              "                                    tol=0.0001, verbose=0, warm_start=False))],\n",
              "         verbose=False)"
            ]
          },
          "metadata": {
            "tags": []
          },
          "execution_count": 27
        }
      ]
    },
    {
      "cell_type": "code",
      "metadata": {
        "id": "6zBDT2B5jDJm",
        "colab_type": "code",
        "colab": {
          "base_uri": "https://localhost:8080/",
          "height": 86
        },
        "outputId": "b61b1554-1cac-4691-c8db-13b8eaebc17f"
      },
      "source": [
        "predictions_LR = pipeline.predict(xvalid)\n",
        "print(\"Accuracy -> \",accuracy_score( yvalid,predictions_LR)*100)\n",
        "print(\"F1 Score -> \",f1_score(yvalid,predictions_LR, average=\"macro\"))\n",
        "print(\"Precision -> \",precision_score(yvalid, predictions_LR, average=\"macro\"))\n",
        "print(\"Recall -> \",recall_score(yvalid,predictions_LR, average=\"macro\"))"
      ],
      "execution_count": 28,
      "outputs": [
        {
          "output_type": "stream",
          "text": [
            "Accuracy ->  85.41666666666666\n",
            "F1 Score ->  0.7488852297879516\n",
            "Precision ->  0.7922141335227273\n",
            "Recall ->  0.7237298792222302\n"
          ],
          "name": "stdout"
        }
      ]
    },
    {
      "cell_type": "code",
      "metadata": {
        "id": "Zef0kO1HjpcS",
        "colab_type": "code",
        "colab": {}
      },
      "source": [
        ""
      ],
      "execution_count": 0,
      "outputs": []
    }
  ]
}